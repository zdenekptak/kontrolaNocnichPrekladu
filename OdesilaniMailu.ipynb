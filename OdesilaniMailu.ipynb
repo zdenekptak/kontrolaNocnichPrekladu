{
 "cells": [
  {
   "cell_type": "code",
   "execution_count": 8,
   "metadata": {},
   "outputs": [],
   "source": [
    "import os\n",
    "from datetime import datetime\n",
    "import os.path, time\n",
    "import smtplib\n",
    "from email.mime.text import MIMEText\n",
    "from email.mime.multipart import MIMEMultipart\n",
    "from email.mime.base import MIMEBase\n",
    "from email import encoders\n",
    "import json"
   ]
  },
  {
   "cell_type": "code",
   "execution_count": 9,
   "metadata": {},
   "outputs": [],
   "source": [
    "class Preklady:\n",
    "    \n",
    "    def kontrola(configCesty):\n",
    "\n",
    "        with open(configCesty) as json_file:\n",
    "\n",
    "            configCesty = json.load(json_file)            \n",
    "\n",
    "\n",
    "        vysledkyPrekladuSouboru = []\n",
    "        for verzeHeliosu, souborCesta in configCesty.items():\n",
    "            for soubor, cesta in souborCesta.items():\n",
    "                nowDate = datetime.now() # current date and time\n",
    "                datumDnesniDen = int(nowDate.strftime(\"%d\"))\n",
    "\n",
    "                datumSouboru = time.ctime(os.path.getmtime(cesta))\n",
    "    #             print(f\"Poslední změna {s} proběhla: {datumSouboru}\")\n",
    "\n",
    "                datumVytvoreniSouboru = time.ctime(os.path.getctime(cesta))\n",
    "    #             print(f\"Souboru vutvoren: \\n {datumVytvoreniSouboru}\")\n",
    "\n",
    "                datumSouboruDen = [int(s) for s in datumSouboru.split() if s.isdigit()][0]\n",
    "                if datumSouboruDen == datumDnesniDen:\n",
    "                    vyslZprava = (f\"{verzeHeliosu} {soubor} je OK\")\n",
    "                    vysledkyPrekladuSouboru.append([vyslZprava])\n",
    "                else:\n",
    "                    vyslZprava = (f\"{verzeHeliosu} {soubor} překlad neproběhl!!!\")\n",
    "                    vysledkyPrekladuSouboru.append({vyslZprava})\n",
    "        zprava = ''            \n",
    "        for v in vysledkyPrekladuSouboru:\n",
    "            vstring = v[0]\n",
    "            zprava = zprava + '\\n' + vstring\n",
    "        return zprava\n",
    "\n",
    "    def ulozeniVysledku(vysledky):\n",
    "        with open('probehlpreklad.txt', 'w') as filehandle:\n",
    "            for listitem in vysledky:\n",
    "                filehandle.write('%s\\n' % listitem)\n",
    "\n",
    "    def posliEmail(config_soubor,\n",
    "                   textZpravy,\n",
    "                   predmet = 'Noční překlady',\n",
    "                   attachment_location = ''):\n",
    "        \n",
    "        with open(config_soubor) as json_file:\n",
    "            \n",
    "            config = json.load(json_file)\n",
    "            \n",
    "            odesilatel = config[\"odesilatel\"]\n",
    "            prijemci = config[\"prijemci\"]\n",
    "            heslo = config[\"heslo\"]\n",
    "\n",
    "\n",
    "        msg = MIMEMultipart()\n",
    "        msg['From'] = odesilatel\n",
    "        msg['To'] = \", \".join(prijemci)\n",
    "        msg['Subject'] = predmet\n",
    "\n",
    "        msg.attach(MIMEText(textZpravy, 'plain'))\n",
    "\n",
    "        if attachment_location != '':\n",
    "            filename = os.path.basename(attachment_location)\n",
    "            attachment = open(attachment_location, \"rb\")\n",
    "            part = MIMEBase('application', 'octet-stream')\n",
    "            part.set_payload(attachment.read())\n",
    "            encoders.encode_base64(part)\n",
    "            part.add_header('Content-Disposition',\n",
    "                            \"attachment; filename= %s\" % filename)\n",
    "            msg.attach(part)\n",
    "\n",
    "        try:\n",
    "            server = smtplib.SMTP('smtp.office365.com', 587)\n",
    "            server.ehlo()\n",
    "            server.starttls()\n",
    "            server.login('zdenek.ptak@assecosol.com', heslo)\n",
    "            text = msg.as_string()\n",
    "            server.sendmail(odesilatel, prijemci, text)\n",
    "            print('email odeslan')\n",
    "            server.quit()\n",
    "        except:\n",
    "            print(\"SMPT server connection error\")\n",
    "        return True\n"
   ]
  },
  {
   "cell_type": "code",
   "execution_count": 10,
   "metadata": {},
   "outputs": [
    {
     "name": "stdout",
     "output_type": "stream",
     "text": [
      "email odeslan\n"
     ]
    },
    {
     "data": {
      "text/plain": [
       "True"
      ]
     },
     "execution_count": 10,
     "metadata": {},
     "output_type": "execute_result"
    }
   ],
   "source": [
    "configCesta = \"C:/Users/zdenek.ptak/Repository/Kontrola_prekladu/souborykekontrole.json\"\n",
    "config = \"C:/Users/zdenek.ptak/Repository/Kontrola_prekladu/config.json\"\n",
    "emailZprava = Preklady.kontrola(configCesta)\n",
    "Preklady.posliEmail(config, emailZprava)"
   ]
  },
  {
   "cell_type": "code",
   "execution_count": null,
   "metadata": {},
   "outputs": [],
   "source": []
  }
 ],
 "metadata": {
  "kernelspec": {
   "display_name": "Python 3",
   "language": "python",
   "name": "python3"
  },
  "language_info": {
   "codemirror_mode": {
    "name": "ipython",
    "version": 3
   },
   "file_extension": ".py",
   "mimetype": "text/x-python",
   "name": "python",
   "nbconvert_exporter": "python",
   "pygments_lexer": "ipython3",
   "version": "3.7.7"
  }
 },
 "nbformat": 4,
 "nbformat_minor": 4
}
